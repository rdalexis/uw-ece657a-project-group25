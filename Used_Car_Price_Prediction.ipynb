{
 "cells": [
  {
   "cell_type": "code",
   "execution_count": 25,
   "metadata": {},
   "outputs": [],
   "source": [
    "# Import required libraries\n",
    "import math \n",
    "import numpy as np\n",
    "import pandas as pd\n",
    "import matplotlib.pyplot as plt\n",
    "import seaborn as sns"
   ]
  },
  {
   "cell_type": "code",
   "execution_count": 26,
   "metadata": {},
   "outputs": [],
   "source": [
    "# Load the dataset\n",
    "dataset = pd.read_csv(\"vehicles.csv\")"
   ]
  },
  {
   "cell_type": "markdown",
   "metadata": {},
   "source": [
    "<h2>Data Cleaning</h2>"
   ]
  },
  {
   "cell_type": "code",
   "execution_count": 27,
   "metadata": {},
   "outputs": [
    {
     "data": {
      "text/html": [
       "<div>\n",
       "<style scoped>\n",
       "    .dataframe tbody tr th:only-of-type {\n",
       "        vertical-align: middle;\n",
       "    }\n",
       "\n",
       "    .dataframe tbody tr th {\n",
       "        vertical-align: top;\n",
       "    }\n",
       "\n",
       "    .dataframe thead th {\n",
       "        text-align: right;\n",
       "    }\n",
       "</style>\n",
       "<table border=\"1\" class=\"dataframe\">\n",
       "  <thead>\n",
       "    <tr style=\"text-align: right;\">\n",
       "      <th></th>\n",
       "      <th>id</th>\n",
       "      <th>price</th>\n",
       "      <th>year</th>\n",
       "      <th>odometer</th>\n",
       "      <th>county</th>\n",
       "      <th>lat</th>\n",
       "      <th>long</th>\n",
       "    </tr>\n",
       "  </thead>\n",
       "  <tbody>\n",
       "    <tr>\n",
       "      <th>count</th>\n",
       "      <td>4.358490e+05</td>\n",
       "      <td>4.358490e+05</td>\n",
       "      <td>434732.000000</td>\n",
       "      <td>3.607010e+05</td>\n",
       "      <td>0.0</td>\n",
       "      <td>427614.000000</td>\n",
       "      <td>427614.000000</td>\n",
       "    </tr>\n",
       "    <tr>\n",
       "      <th>mean</th>\n",
       "      <td>7.115954e+09</td>\n",
       "      <td>1.349127e+05</td>\n",
       "      <td>2009.866460</td>\n",
       "      <td>9.897590e+04</td>\n",
       "      <td>NaN</td>\n",
       "      <td>38.404163</td>\n",
       "      <td>-94.961170</td>\n",
       "    </tr>\n",
       "    <tr>\n",
       "      <th>std</th>\n",
       "      <td>4.590854e+06</td>\n",
       "      <td>1.690857e+07</td>\n",
       "      <td>9.312503</td>\n",
       "      <td>1.134990e+05</td>\n",
       "      <td>NaN</td>\n",
       "      <td>6.036915</td>\n",
       "      <td>18.058561</td>\n",
       "    </tr>\n",
       "    <tr>\n",
       "      <th>min</th>\n",
       "      <td>7.096577e+09</td>\n",
       "      <td>0.000000e+00</td>\n",
       "      <td>1900.000000</td>\n",
       "      <td>0.000000e+00</td>\n",
       "      <td>NaN</td>\n",
       "      <td>-83.197100</td>\n",
       "      <td>-177.012000</td>\n",
       "    </tr>\n",
       "    <tr>\n",
       "      <th>25%</th>\n",
       "      <td>7.112450e+09</td>\n",
       "      <td>4.900000e+03</td>\n",
       "      <td>2007.000000</td>\n",
       "      <td>4.733300e+04</td>\n",
       "      <td>NaN</td>\n",
       "      <td>34.225700</td>\n",
       "      <td>-111.731000</td>\n",
       "    </tr>\n",
       "    <tr>\n",
       "      <th>50%</th>\n",
       "      <td>7.117092e+09</td>\n",
       "      <td>9.995000e+03</td>\n",
       "      <td>2012.000000</td>\n",
       "      <td>9.118800e+04</td>\n",
       "      <td>NaN</td>\n",
       "      <td>38.934800</td>\n",
       "      <td>-89.676700</td>\n",
       "    </tr>\n",
       "    <tr>\n",
       "      <th>75%</th>\n",
       "      <td>7.120090e+09</td>\n",
       "      <td>1.798900e+04</td>\n",
       "      <td>2015.000000</td>\n",
       "      <td>1.347360e+05</td>\n",
       "      <td>NaN</td>\n",
       "      <td>42.484500</td>\n",
       "      <td>-81.397300</td>\n",
       "    </tr>\n",
       "    <tr>\n",
       "      <th>max</th>\n",
       "      <td>7.121608e+09</td>\n",
       "      <td>3.647257e+09</td>\n",
       "      <td>2021.000000</td>\n",
       "      <td>1.000000e+07</td>\n",
       "      <td>NaN</td>\n",
       "      <td>79.601900</td>\n",
       "      <td>173.675000</td>\n",
       "    </tr>\n",
       "  </tbody>\n",
       "</table>\n",
       "</div>"
      ],
      "text/plain": [
       "                 id         price           year      odometer  county  \\\n",
       "count  4.358490e+05  4.358490e+05  434732.000000  3.607010e+05     0.0   \n",
       "mean   7.115954e+09  1.349127e+05    2009.866460  9.897590e+04     NaN   \n",
       "std    4.590854e+06  1.690857e+07       9.312503  1.134990e+05     NaN   \n",
       "min    7.096577e+09  0.000000e+00    1900.000000  0.000000e+00     NaN   \n",
       "25%    7.112450e+09  4.900000e+03    2007.000000  4.733300e+04     NaN   \n",
       "50%    7.117092e+09  9.995000e+03    2012.000000  9.118800e+04     NaN   \n",
       "75%    7.120090e+09  1.798900e+04    2015.000000  1.347360e+05     NaN   \n",
       "max    7.121608e+09  3.647257e+09    2021.000000  1.000000e+07     NaN   \n",
       "\n",
       "                 lat           long  \n",
       "count  427614.000000  427614.000000  \n",
       "mean       38.404163     -94.961170  \n",
       "std         6.036915      18.058561  \n",
       "min       -83.197100    -177.012000  \n",
       "25%        34.225700    -111.731000  \n",
       "50%        38.934800     -89.676700  \n",
       "75%        42.484500     -81.397300  \n",
       "max        79.601900     173.675000  "
      ]
     },
     "execution_count": 27,
     "metadata": {},
     "output_type": "execute_result"
    }
   ],
   "source": [
    "dataset.describe()"
   ]
  },
  {
   "cell_type": "markdown",
   "metadata": {},
   "source": [
    "From the above information, following are the observations:\n",
    "<ol>\n",
    "    <li>Number of entries in the dataset is close to 4,36000.</li>\n",
    "    <li>In the price column, the minimum value is 0 which implies that there are free cars available. These entires should be removed from the dataset. Similarly, the maximum value is 3.6 billion which is clearly an outlier.</li>\n",
    "    <li>The maximum value of odometer column is 10 million miles which should be again an outlier.</li>\n",
    "    <li>The column \"county\" is totally empty.</li>\n",
    "</ol>"
   ]
  },
  {
   "cell_type": "code",
   "execution_count": 30,
   "metadata": {},
   "outputs": [
    {
     "name": "stdout",
     "output_type": "stream",
     "text": [
      "<class 'pandas.core.frame.DataFrame'>\n",
      "RangeIndex: 435849 entries, 0 to 435848\n",
      "Data columns (total 25 columns):\n",
      " #   Column        Non-Null Count   Dtype  \n",
      "---  ------        --------------   -----  \n",
      " 0   id            435849 non-null  int64  \n",
      " 1   url           435849 non-null  object \n",
      " 2   region        435849 non-null  object \n",
      " 3   region_url    435849 non-null  object \n",
      " 4   price         435849 non-null  int64  \n",
      " 5   year          434732 non-null  float64\n",
      " 6   manufacturer  415102 non-null  object \n",
      " 7   model         429650 non-null  object \n",
      " 8   condition     249043 non-null  object \n",
      " 9   cylinders     269465 non-null  object \n",
      " 10  fuel          432858 non-null  object \n",
      " 11  odometer      360701 non-null  float64\n",
      " 12  title_status  434043 non-null  object \n",
      " 13  transmission  433703 non-null  object \n",
      " 14  vin           239197 non-null  object \n",
      " 15  drive         313838 non-null  object \n",
      " 16  size          139888 non-null  object \n",
      " 17  type          318741 non-null  object \n",
      " 18  paint_color   300602 non-null  object \n",
      " 19  image_url     435825 non-null  object \n",
      " 20  description   435822 non-null  object \n",
      " 21  county        0 non-null       float64\n",
      " 22  state         435849 non-null  object \n",
      " 23  lat           427614 non-null  float64\n",
      " 24  long          427614 non-null  float64\n",
      "dtypes: float64(5), int64(2), object(18)\n",
      "memory usage: 83.1+ MB\n"
     ]
    }
   ],
   "source": [
    "dataset.info()"
   ]
  },
  {
   "cell_type": "markdown",
   "metadata": {},
   "source": [
    "There are many missing values in the dataset among the features."
   ]
  },
  {
   "cell_type": "code",
   "execution_count": 31,
   "metadata": {
    "scrolled": true
   },
   "outputs": [
    {
     "data": {
      "text/plain": [
       "array([[<AxesSubplot:title={'center':'price'}>]], dtype=object)"
      ]
     },
     "execution_count": 31,
     "metadata": {},
     "output_type": "execute_result"
    },
    {
     "data": {
      "image/png": "[encoded data removed]",
      "text/plain": [
       "<Figure size 432x288 with 1 Axes>"
      ]
     },
     "metadata": {
      "needs_background": "light"
     },
     "output_type": "display_data"
    }
   ],
   "source": [
    "dataset.hist(column='price')"
   ]
  },
  {
   "cell_type": "code",
   "execution_count": null,
   "metadata": {},
   "outputs": [],
   "source": []
  },
  {
   "cell_type": "code",
   "execution_count": 4,
   "metadata": {},
   "outputs": [],
   "source": [
    "Q1 = dataset['price'].quantile(0.25)\n",
    "Q3 = dataset['price'].quantile(0.75)\n",
    "IQR = Q3 - Q1\n",
    "dataset = dataset[(dataset.price >= Q1-1.5*IQR)&(dataset.price <= Q3+1.5*IQR)]"
   ]
  },
  {
   "cell_type": "code",
   "execution_count": 5,
   "metadata": {},
   "outputs": [
    {
     "data": {
      "text/plain": [
       "419878"
      ]
     },
     "execution_count": 5,
     "metadata": {},
     "output_type": "execute_result"
    }
   ],
   "source": [
    "dataset.count()['id']"
   ]
  },
  {
   "cell_type": "code",
   "execution_count": 6,
   "metadata": {},
   "outputs": [
    {
     "data": {
      "text/plain": [
       "<AxesSubplot:title={'center':'Distribution of the prices'}, xlabel='price'>"
      ]
     },
     "execution_count": 6,
     "metadata": {},
     "output_type": "execute_result"
    },
    {
     "data": {
      "image/png": "[encoded data removed]",
      "text/plain": [
       "<Figure size 720x360 with 1 Axes>"
      ]
     },
     "metadata": {
      "needs_background": "light"
     },
     "output_type": "display_data"
    }
   ],
   "source": [
    "fig, ax = plt.subplots(figsize=(10,5))\n",
    "ax.set_title('Distribution of the prices')\n",
    "sns.distplot(dataset['price'], bins=30, kde=False)"
   ]
  },
  {
   "cell_type": "code",
   "execution_count": 7,
   "metadata": {},
   "outputs": [],
   "source": [
    "dataset = dataset[dataset['price']>600]"
   ]
  },
  {
   "cell_type": "code",
   "execution_count": 8,
   "metadata": {},
   "outputs": [],
   "source": [
    "Q1 = dataset['odometer'].quantile(0.25)\n",
    "Q3 = dataset['odometer'].quantile(0.75)\n",
    "IQR = Q3 - Q1\n",
    "dataset = dataset[dataset['odometer'] <= Q3 + 3*IQR]"
   ]
  },
  {
   "cell_type": "code",
   "execution_count": 9,
   "metadata": {},
   "outputs": [],
   "source": [
    "dataset.drop(columns = ['id', 'url', 'region', 'region_url', 'title_status', 'vin', 'image_url', 'description', 'county', 'state', 'long', 'lat'], inplace=True)"
   ]
  },
  {
   "cell_type": "code",
   "execution_count": 10,
   "metadata": {},
   "outputs": [],
   "source": [
    "dataset.drop(columns = ['manufacturer'], inplace=True)"
   ]
  },
  {
   "cell_type": "code",
   "execution_count": 11,
   "metadata": {},
   "outputs": [
    {
     "data": {
      "text/plain": [
       "(316257, 12)"
      ]
     },
     "execution_count": 11,
     "metadata": {},
     "output_type": "execute_result"
    }
   ],
   "source": [
    "dataset.shape"
   ]
  },
  {
   "cell_type": "code",
   "execution_count": 12,
   "metadata": {},
   "outputs": [
    {
     "data": {
      "text/plain": [
       "price            0.000000\n",
       "year             0.174225\n",
       "model            0.862590\n",
       "condition       36.541167\n",
       "cylinders       31.878188\n",
       "fuel             0.751288\n",
       "odometer         0.000000\n",
       "transmission     0.520463\n",
       "drive           20.289511\n",
       "size            65.134052\n",
       "type            18.563067\n",
       "paint_color     23.309840\n",
       "dtype: float64"
      ]
     },
     "execution_count": 12,
     "metadata": {},
     "output_type": "execute_result"
    }
   ],
   "source": [
    "dataset.isnull().sum()*100/len(dataset)"
   ]
  },
  {
   "cell_type": "code",
   "execution_count": 13,
   "metadata": {},
   "outputs": [],
   "source": [
    "dataset.drop(columns = ['size'], inplace=True)"
   ]
  },
  {
   "cell_type": "code",
   "execution_count": 14,
   "metadata": {},
   "outputs": [],
   "source": [
    "rm_rows = ['year', 'model', 'fuel', 'transmission', 'drive', 'type', 'paint_color']\n",
    "for column in rm_rows:\n",
    "    dataset = dataset[~dataset[column].isnull()]"
   ]
  },
  {
   "cell_type": "code",
   "execution_count": 15,
   "metadata": {},
   "outputs": [],
   "source": [
    "dataset.replace(np.nan, 'null', inplace=True)"
   ]
  },
  {
   "cell_type": "code",
   "execution_count": 16,
   "metadata": {},
   "outputs": [
    {
     "data": {
      "text/plain": [
       "price           0.0\n",
       "year            0.0\n",
       "model           0.0\n",
       "condition       0.0\n",
       "cylinders       0.0\n",
       "fuel            0.0\n",
       "odometer        0.0\n",
       "transmission    0.0\n",
       "drive           0.0\n",
       "type            0.0\n",
       "paint_color     0.0\n",
       "dtype: float64"
      ]
     },
     "execution_count": 16,
     "metadata": {},
     "output_type": "execute_result"
    }
   ],
   "source": [
    "dataset.isnull().sum()*100/len(dataset)"
   ]
  },
  {
   "cell_type": "code",
   "execution_count": null,
   "metadata": {},
   "outputs": [],
   "source": []
  },
  {
   "cell_type": "code",
   "execution_count": null,
   "metadata": {},
   "outputs": [],
   "source": []
  },
  {
   "cell_type": "code",
   "execution_count": null,
   "metadata": {},
   "outputs": [],
   "source": []
  },
  {
   "cell_type": "code",
   "execution_count": null,
   "metadata": {},
   "outputs": [],
   "source": []
  },
  {
   "cell_type": "code",
   "execution_count": null,
   "metadata": {},
   "outputs": [],
   "source": []
  },
  {
   "cell_type": "code",
   "execution_count": null,
   "metadata": {},
   "outputs": [],
   "source": []
  },
  {
   "cell_type": "code",
   "execution_count": null,
   "metadata": {},
   "outputs": [],
   "source": []
  },
  {
   "cell_type": "code",
   "execution_count": null,
   "metadata": {},
   "outputs": [],
   "source": []
  },
  {
   "cell_type": "code",
   "execution_count": null,
   "metadata": {},
   "outputs": [],
   "source": []
  }
 ],
 "metadata": {
  "kernelspec": {
   "display_name": "Python 3",
   "language": "python",
   "name": "python3"
  },
  "language_info": {
   "codemirror_mode": {
    "name": "ipython",
    "version": 3
   },
   "file_extension": ".py",
   "mimetype": "text/x-python",
   "name": "python",
   "nbconvert_exporter": "python",
   "pygments_lexer": "ipython3",
   "version": "3.6.9"
  }
 },
 "nbformat": 4,
 "nbformat_minor": 4
}
